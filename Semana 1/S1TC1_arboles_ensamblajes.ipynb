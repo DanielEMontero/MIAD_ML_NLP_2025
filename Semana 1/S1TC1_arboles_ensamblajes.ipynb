{
 "cells": [
  {
   "cell_type": "markdown",
   "metadata": {},
   "source": [
    "![image info](https://raw.githubusercontent.com/albahnsen/MIAD_ML_and_NLP/main/images/banner_1.png)"
   ]
  },
  {
   "cell_type": "markdown",
   "metadata": {},
   "source": [
    "# Taller: Construcción e implementación de árboles de decisión y métodos de ensamblaje\n",
    "\n",
    "En este taller podrá poner en práctica los sus conocimientos sobre construcción e implementación de árboles de decisión y métodos de ensamblajes. El taller está constituido por 9 puntos, 5 relacionados con árboles de decisión (parte A) y 4 con métodos de ensamblaje (parte B)."
   ]
  },
  {
   "cell_type": "markdown",
   "metadata": {},
   "source": [
    "## Parte A - Árboles de decisión\n",
    "\n",
    "En esta parte del taller se usará el conjunto de datos de Capital Bikeshare de Kaggle, donde cada observación representa el alquiler de bicicletas durante una hora y día determinado. Para más detalles puede visitar los siguientes enlaces: [datos](https://archive.ics.uci.edu/ml/machine-learning-databases/00275/Bike-Sharing-Dataset.zip), [dicccionario de datos](https://archive.ics.uci.edu/ml/datasets/Bike+Sharing+Dataset#)."
   ]
  },
  {
   "cell_type": "markdown",
   "metadata": {},
   "source": [
    "### Datos prestamo de bicicletas"
   ]
  },
  {
   "cell_type": "code",
   "execution_count": 9,
   "metadata": {},
   "outputs": [],
   "source": [
    "import warnings\n",
    "warnings.filterwarnings('ignore')"
   ]
  },
  {
   "cell_type": "code",
   "execution_count": 554,
   "metadata": {},
   "outputs": [],
   "source": [
    "# Importación de librerías\n",
    "%matplotlib inline\n",
    "import pandas as pd\n",
    "import numpy as np\n",
    "from sklearn.model_selection import cross_val_score, train_test_split\n",
    "from sklearn.linear_model import LinearRegression, LogisticRegression\n",
    "from sklearn.tree import DecisionTreeRegressor, export_graphviz, DecisionTreeClassifier\n",
    "from sklearn.metrics import mean_squared_error, f1_score, accuracy_score\n",
    "import matplotlib.pyplot as plt\n"
   ]
  },
  {
   "cell_type": "code",
   "execution_count": 12,
   "metadata": {},
   "outputs": [
    {
     "data": {
      "text/html": [
       "<div>\n",
       "<style scoped>\n",
       "    .dataframe tbody tr th:only-of-type {\n",
       "        vertical-align: middle;\n",
       "    }\n",
       "\n",
       "    .dataframe tbody tr th {\n",
       "        vertical-align: top;\n",
       "    }\n",
       "\n",
       "    .dataframe thead th {\n",
       "        text-align: right;\n",
       "    }\n",
       "</style>\n",
       "<table border=\"1\" class=\"dataframe\">\n",
       "  <thead>\n",
       "    <tr style=\"text-align: right;\">\n",
       "      <th></th>\n",
       "      <th>season</th>\n",
       "      <th>holiday</th>\n",
       "      <th>workingday</th>\n",
       "      <th>weather</th>\n",
       "      <th>temp</th>\n",
       "      <th>atemp</th>\n",
       "      <th>humidity</th>\n",
       "      <th>windspeed</th>\n",
       "      <th>casual</th>\n",
       "      <th>registered</th>\n",
       "      <th>total</th>\n",
       "      <th>hour</th>\n",
       "    </tr>\n",
       "    <tr>\n",
       "      <th>datetime</th>\n",
       "      <th></th>\n",
       "      <th></th>\n",
       "      <th></th>\n",
       "      <th></th>\n",
       "      <th></th>\n",
       "      <th></th>\n",
       "      <th></th>\n",
       "      <th></th>\n",
       "      <th></th>\n",
       "      <th></th>\n",
       "      <th></th>\n",
       "      <th></th>\n",
       "    </tr>\n",
       "  </thead>\n",
       "  <tbody>\n",
       "    <tr>\n",
       "      <th>2011-01-01 00:00:00</th>\n",
       "      <td>1</td>\n",
       "      <td>0</td>\n",
       "      <td>0</td>\n",
       "      <td>1</td>\n",
       "      <td>9.84</td>\n",
       "      <td>14.395</td>\n",
       "      <td>81</td>\n",
       "      <td>0.0</td>\n",
       "      <td>3</td>\n",
       "      <td>13</td>\n",
       "      <td>16</td>\n",
       "      <td>0</td>\n",
       "    </tr>\n",
       "    <tr>\n",
       "      <th>2011-01-01 01:00:00</th>\n",
       "      <td>1</td>\n",
       "      <td>0</td>\n",
       "      <td>0</td>\n",
       "      <td>1</td>\n",
       "      <td>9.02</td>\n",
       "      <td>13.635</td>\n",
       "      <td>80</td>\n",
       "      <td>0.0</td>\n",
       "      <td>8</td>\n",
       "      <td>32</td>\n",
       "      <td>40</td>\n",
       "      <td>1</td>\n",
       "    </tr>\n",
       "    <tr>\n",
       "      <th>2011-01-01 02:00:00</th>\n",
       "      <td>1</td>\n",
       "      <td>0</td>\n",
       "      <td>0</td>\n",
       "      <td>1</td>\n",
       "      <td>9.02</td>\n",
       "      <td>13.635</td>\n",
       "      <td>80</td>\n",
       "      <td>0.0</td>\n",
       "      <td>5</td>\n",
       "      <td>27</td>\n",
       "      <td>32</td>\n",
       "      <td>2</td>\n",
       "    </tr>\n",
       "    <tr>\n",
       "      <th>2011-01-01 03:00:00</th>\n",
       "      <td>1</td>\n",
       "      <td>0</td>\n",
       "      <td>0</td>\n",
       "      <td>1</td>\n",
       "      <td>9.84</td>\n",
       "      <td>14.395</td>\n",
       "      <td>75</td>\n",
       "      <td>0.0</td>\n",
       "      <td>3</td>\n",
       "      <td>10</td>\n",
       "      <td>13</td>\n",
       "      <td>3</td>\n",
       "    </tr>\n",
       "    <tr>\n",
       "      <th>2011-01-01 04:00:00</th>\n",
       "      <td>1</td>\n",
       "      <td>0</td>\n",
       "      <td>0</td>\n",
       "      <td>1</td>\n",
       "      <td>9.84</td>\n",
       "      <td>14.395</td>\n",
       "      <td>75</td>\n",
       "      <td>0.0</td>\n",
       "      <td>0</td>\n",
       "      <td>1</td>\n",
       "      <td>1</td>\n",
       "      <td>4</td>\n",
       "    </tr>\n",
       "  </tbody>\n",
       "</table>\n",
       "</div>"
      ],
      "text/plain": [
       "                     season  holiday  workingday  weather  temp   atemp  \\\n",
       "datetime                                                                  \n",
       "2011-01-01 00:00:00       1        0           0        1  9.84  14.395   \n",
       "2011-01-01 01:00:00       1        0           0        1  9.02  13.635   \n",
       "2011-01-01 02:00:00       1        0           0        1  9.02  13.635   \n",
       "2011-01-01 03:00:00       1        0           0        1  9.84  14.395   \n",
       "2011-01-01 04:00:00       1        0           0        1  9.84  14.395   \n",
       "\n",
       "                     humidity  windspeed  casual  registered  total  hour  \n",
       "datetime                                                                   \n",
       "2011-01-01 00:00:00        81        0.0       3          13     16     0  \n",
       "2011-01-01 01:00:00        80        0.0       8          32     40     1  \n",
       "2011-01-01 02:00:00        80        0.0       5          27     32     2  \n",
       "2011-01-01 03:00:00        75        0.0       3          10     13     3  \n",
       "2011-01-01 04:00:00        75        0.0       0           1      1     4  "
      ]
     },
     "execution_count": 12,
     "metadata": {},
     "output_type": "execute_result"
    }
   ],
   "source": [
    "# Lectura de la información de archivo .csv\n",
    "bikes = pd.read_csv('https://raw.githubusercontent.com/davidzarruk/MIAD_ML_NLP_2023/main/datasets/bikeshare.csv', index_col='datetime', parse_dates=True)\n",
    "\n",
    "# Renombrar variable \"count\" a \"total\"\n",
    "bikes.rename(columns={'count':'total'}, inplace=True)\n",
    "\n",
    "# Crear la hora como una variable \n",
    "bikes['hour'] = bikes.index.hour\n",
    "\n",
    "# Visualización de los datos\n",
    "bikes.head()"
   ]
  },
  {
   "cell_type": "markdown",
   "metadata": {},
   "source": [
    "### Punto 1 - Análisis descriptivo\n",
    "\n",
    "Ejecute las celdas 1.1 y 1.2. A partir de los resultados realice un análisis descriptivo sobre las variables \"season\" y \"hour\", escriba sus inferencias sobre los datos. Para complementar su análisis puede usar métricas como máximo, mínimo, percentiles entre otros."
   ]
  },
  {
   "cell_type": "code",
   "execution_count": 16,
   "metadata": {},
   "outputs": [
    {
     "data": {
      "text/html": [
       "<div>\n",
       "<style scoped>\n",
       "    .dataframe tbody tr th:only-of-type {\n",
       "        vertical-align: middle;\n",
       "    }\n",
       "\n",
       "    .dataframe tbody tr th {\n",
       "        vertical-align: top;\n",
       "    }\n",
       "\n",
       "    .dataframe thead th {\n",
       "        text-align: right;\n",
       "    }\n",
       "</style>\n",
       "<table border=\"1\" class=\"dataframe\">\n",
       "  <thead>\n",
       "    <tr style=\"text-align: right;\">\n",
       "      <th></th>\n",
       "      <th>count</th>\n",
       "      <th>mean</th>\n",
       "      <th>std</th>\n",
       "      <th>min</th>\n",
       "      <th>Percentil 25</th>\n",
       "      <th>Percentil 50</th>\n",
       "      <th>Percentil 75</th>\n",
       "      <th>max</th>\n",
       "    </tr>\n",
       "    <tr>\n",
       "      <th>season</th>\n",
       "      <th></th>\n",
       "      <th></th>\n",
       "      <th></th>\n",
       "      <th></th>\n",
       "      <th></th>\n",
       "      <th></th>\n",
       "      <th></th>\n",
       "      <th></th>\n",
       "    </tr>\n",
       "  </thead>\n",
       "  <tbody>\n",
       "    <tr>\n",
       "      <th>1</th>\n",
       "      <td>2686</td>\n",
       "      <td>116.343261</td>\n",
       "      <td>125.273974</td>\n",
       "      <td>1</td>\n",
       "      <td>24.0</td>\n",
       "      <td>78.0</td>\n",
       "      <td>164.0</td>\n",
       "      <td>801</td>\n",
       "    </tr>\n",
       "    <tr>\n",
       "      <th>2</th>\n",
       "      <td>2733</td>\n",
       "      <td>215.251372</td>\n",
       "      <td>192.007843</td>\n",
       "      <td>1</td>\n",
       "      <td>49.0</td>\n",
       "      <td>172.0</td>\n",
       "      <td>321.0</td>\n",
       "      <td>873</td>\n",
       "    </tr>\n",
       "    <tr>\n",
       "      <th>3</th>\n",
       "      <td>2733</td>\n",
       "      <td>234.417124</td>\n",
       "      <td>197.151001</td>\n",
       "      <td>1</td>\n",
       "      <td>68.0</td>\n",
       "      <td>195.0</td>\n",
       "      <td>347.0</td>\n",
       "      <td>977</td>\n",
       "    </tr>\n",
       "    <tr>\n",
       "      <th>4</th>\n",
       "      <td>2734</td>\n",
       "      <td>198.988296</td>\n",
       "      <td>177.622409</td>\n",
       "      <td>1</td>\n",
       "      <td>51.0</td>\n",
       "      <td>161.0</td>\n",
       "      <td>294.0</td>\n",
       "      <td>948</td>\n",
       "    </tr>\n",
       "  </tbody>\n",
       "</table>\n",
       "</div>"
      ],
      "text/plain": [
       "        count        mean         std  min  Percentil 25  Percentil 50  \\\n",
       "season                                                                   \n",
       "1        2686  116.343261  125.273974    1          24.0          78.0   \n",
       "2        2733  215.251372  192.007843    1          49.0         172.0   \n",
       "3        2733  234.417124  197.151001    1          68.0         195.0   \n",
       "4        2734  198.988296  177.622409    1          51.0         161.0   \n",
       "\n",
       "        Percentil 75  max  \n",
       "season                     \n",
       "1              164.0  801  \n",
       "2              321.0  873  \n",
       "3              347.0  977  \n",
       "4              294.0  948  "
      ]
     },
     "execution_count": 16,
     "metadata": {},
     "output_type": "execute_result"
    }
   ],
   "source": [
    "# Celda 1.1\n",
    "#bikes.groupby('season').total.mean()\n",
    "bikes.groupby('season')['total'].agg([\n",
    "    'count', 'mean', 'std', 'min', \n",
    "    lambda x: x.quantile(0.25),\n",
    "    lambda x: x.quantile(0.5), \n",
    "    lambda x: x.quantile(0.75), \n",
    "    'max',\n",
    "    ]).rename(columns={\n",
    "    '<lambda_0>': 'Percentil 25',\n",
    "    '<lambda_1>': 'Percentil 50',\n",
    "    '<lambda_2>': 'Percentil 75',\n",
    "    })"
   ]
  },
  {
   "cell_type": "markdown",
   "metadata": {},
   "source": [
    "De acuerdo a la metadata de la base de datos, la variable season corresponde a la temporada del año en que fue rentada la bicicleta. En donde cada valor corresponde a:\n",
    "\n",
    "1: invierno\n",
    "2: primavera\n",
    "3: verano\n",
    "4: Otoño\n",
    "\n",
    "Según la distribución de los registros de la base de datos, la temporada del año que tiene mayor media de bicicletas rentadas es verano, seguido de primavera, otoño y finalmente invierno. Esto hace sentido dentro del contexto de los datos, dado que en las temporadas del año más despejadas (como verano y primavera) las personas tenderán a transportarse con mayor frecuencia en bicicleta que en otros medios de transporte, mientras que para temporadas como invierno y otoño no se optará tanto por transportarse en bicicleta.\n",
    "\n",
    "Como se puede observar dentro de las medidas descriptivas generadas para la variable \"season\":  \n",
    "- Los datos están balanceados para cada valor que toma season ya que estos oscilan entre 2686 y 2734\n",
    "- La temporada de invierno tiene la menor desviación estandar (quiere decir que las rentas de bicicletas fueron más constantes entre horas frente a las demás temporadas) pero la diferencia entre el percentil 75 y el máximo es bastante marcada, lo que nos indica que en esta temporada tenemos presentes algunos atípicos altos. Este mismo fenómeno sucede con las demás temporadas pero no en la misma magnitud que en invierno.\n",
    "- La base de datos es consistente para esta variable ya que no presenta valores en 0, sino el mínimo de rentas para una hora es de 1\n"
   ]
  },
  {
   "cell_type": "code",
   "execution_count": 19,
   "metadata": {
    "scrolled": true
   },
   "outputs": [
    {
     "data": {
      "text/html": [
       "<div>\n",
       "<style scoped>\n",
       "    .dataframe tbody tr th:only-of-type {\n",
       "        vertical-align: middle;\n",
       "    }\n",
       "\n",
       "    .dataframe tbody tr th {\n",
       "        vertical-align: top;\n",
       "    }\n",
       "\n",
       "    .dataframe thead th {\n",
       "        text-align: right;\n",
       "    }\n",
       "</style>\n",
       "<table border=\"1\" class=\"dataframe\">\n",
       "  <thead>\n",
       "    <tr style=\"text-align: right;\">\n",
       "      <th></th>\n",
       "      <th>count</th>\n",
       "      <th>mean</th>\n",
       "      <th>std</th>\n",
       "      <th>min</th>\n",
       "      <th>Percentil 25</th>\n",
       "      <th>Percentil 50</th>\n",
       "      <th>Percentil 75</th>\n",
       "      <th>max</th>\n",
       "    </tr>\n",
       "    <tr>\n",
       "      <th>hour</th>\n",
       "      <th></th>\n",
       "      <th></th>\n",
       "      <th></th>\n",
       "      <th></th>\n",
       "      <th></th>\n",
       "      <th></th>\n",
       "      <th></th>\n",
       "      <th></th>\n",
       "    </tr>\n",
       "  </thead>\n",
       "  <tbody>\n",
       "    <tr>\n",
       "      <th>0</th>\n",
       "      <td>455</td>\n",
       "      <td>55.138462</td>\n",
       "      <td>43.620012</td>\n",
       "      <td>2</td>\n",
       "      <td>24.00</td>\n",
       "      <td>41.0</td>\n",
       "      <td>74.50</td>\n",
       "      <td>283</td>\n",
       "    </tr>\n",
       "    <tr>\n",
       "      <th>1</th>\n",
       "      <td>454</td>\n",
       "      <td>33.859031</td>\n",
       "      <td>34.112105</td>\n",
       "      <td>1</td>\n",
       "      <td>11.00</td>\n",
       "      <td>19.0</td>\n",
       "      <td>46.00</td>\n",
       "      <td>168</td>\n",
       "    </tr>\n",
       "    <tr>\n",
       "      <th>2</th>\n",
       "      <td>448</td>\n",
       "      <td>22.899554</td>\n",
       "      <td>26.110267</td>\n",
       "      <td>1</td>\n",
       "      <td>5.00</td>\n",
       "      <td>11.0</td>\n",
       "      <td>32.00</td>\n",
       "      <td>119</td>\n",
       "    </tr>\n",
       "    <tr>\n",
       "      <th>3</th>\n",
       "      <td>433</td>\n",
       "      <td>11.757506</td>\n",
       "      <td>12.666442</td>\n",
       "      <td>1</td>\n",
       "      <td>3.00</td>\n",
       "      <td>6.0</td>\n",
       "      <td>15.00</td>\n",
       "      <td>66</td>\n",
       "    </tr>\n",
       "    <tr>\n",
       "      <th>4</th>\n",
       "      <td>442</td>\n",
       "      <td>6.407240</td>\n",
       "      <td>4.217633</td>\n",
       "      <td>1</td>\n",
       "      <td>3.00</td>\n",
       "      <td>6.0</td>\n",
       "      <td>9.00</td>\n",
       "      <td>28</td>\n",
       "    </tr>\n",
       "    <tr>\n",
       "      <th>5</th>\n",
       "      <td>452</td>\n",
       "      <td>19.767699</td>\n",
       "      <td>12.784293</td>\n",
       "      <td>1</td>\n",
       "      <td>8.00</td>\n",
       "      <td>19.0</td>\n",
       "      <td>29.00</td>\n",
       "      <td>57</td>\n",
       "    </tr>\n",
       "    <tr>\n",
       "      <th>6</th>\n",
       "      <td>455</td>\n",
       "      <td>76.259341</td>\n",
       "      <td>54.745333</td>\n",
       "      <td>1</td>\n",
       "      <td>24.50</td>\n",
       "      <td>75.0</td>\n",
       "      <td>118.00</td>\n",
       "      <td>213</td>\n",
       "    </tr>\n",
       "    <tr>\n",
       "      <th>7</th>\n",
       "      <td>455</td>\n",
       "      <td>213.116484</td>\n",
       "      <td>159.207044</td>\n",
       "      <td>1</td>\n",
       "      <td>63.00</td>\n",
       "      <td>208.0</td>\n",
       "      <td>334.00</td>\n",
       "      <td>596</td>\n",
       "    </tr>\n",
       "    <tr>\n",
       "      <th>8</th>\n",
       "      <td>455</td>\n",
       "      <td>362.769231</td>\n",
       "      <td>231.723065</td>\n",
       "      <td>8</td>\n",
       "      <td>133.50</td>\n",
       "      <td>392.0</td>\n",
       "      <td>563.50</td>\n",
       "      <td>839</td>\n",
       "    </tr>\n",
       "    <tr>\n",
       "      <th>9</th>\n",
       "      <td>455</td>\n",
       "      <td>221.780220</td>\n",
       "      <td>92.099209</td>\n",
       "      <td>14</td>\n",
       "      <td>161.00</td>\n",
       "      <td>217.0</td>\n",
       "      <td>294.50</td>\n",
       "      <td>414</td>\n",
       "    </tr>\n",
       "    <tr>\n",
       "      <th>10</th>\n",
       "      <td>455</td>\n",
       "      <td>175.092308</td>\n",
       "      <td>101.807629</td>\n",
       "      <td>17</td>\n",
       "      <td>106.00</td>\n",
       "      <td>149.0</td>\n",
       "      <td>218.50</td>\n",
       "      <td>539</td>\n",
       "    </tr>\n",
       "    <tr>\n",
       "      <th>11</th>\n",
       "      <td>455</td>\n",
       "      <td>210.674725</td>\n",
       "      <td>127.444294</td>\n",
       "      <td>10</td>\n",
       "      <td>123.00</td>\n",
       "      <td>183.0</td>\n",
       "      <td>265.50</td>\n",
       "      <td>647</td>\n",
       "    </tr>\n",
       "    <tr>\n",
       "      <th>12</th>\n",
       "      <td>456</td>\n",
       "      <td>256.508772</td>\n",
       "      <td>143.881880</td>\n",
       "      <td>3</td>\n",
       "      <td>157.00</td>\n",
       "      <td>234.5</td>\n",
       "      <td>332.00</td>\n",
       "      <td>757</td>\n",
       "    </tr>\n",
       "    <tr>\n",
       "      <th>13</th>\n",
       "      <td>456</td>\n",
       "      <td>257.787281</td>\n",
       "      <td>149.167185</td>\n",
       "      <td>11</td>\n",
       "      <td>154.00</td>\n",
       "      <td>226.5</td>\n",
       "      <td>329.00</td>\n",
       "      <td>729</td>\n",
       "    </tr>\n",
       "    <tr>\n",
       "      <th>14</th>\n",
       "      <td>456</td>\n",
       "      <td>243.442982</td>\n",
       "      <td>147.563199</td>\n",
       "      <td>12</td>\n",
       "      <td>144.00</td>\n",
       "      <td>212.0</td>\n",
       "      <td>311.25</td>\n",
       "      <td>730</td>\n",
       "    </tr>\n",
       "    <tr>\n",
       "      <th>15</th>\n",
       "      <td>456</td>\n",
       "      <td>254.298246</td>\n",
       "      <td>144.235670</td>\n",
       "      <td>7</td>\n",
       "      <td>154.00</td>\n",
       "      <td>232.0</td>\n",
       "      <td>331.00</td>\n",
       "      <td>724</td>\n",
       "    </tr>\n",
       "    <tr>\n",
       "      <th>16</th>\n",
       "      <td>456</td>\n",
       "      <td>316.372807</td>\n",
       "      <td>145.664786</td>\n",
       "      <td>11</td>\n",
       "      <td>211.75</td>\n",
       "      <td>309.5</td>\n",
       "      <td>421.00</td>\n",
       "      <td>783</td>\n",
       "    </tr>\n",
       "    <tr>\n",
       "      <th>17</th>\n",
       "      <td>456</td>\n",
       "      <td>468.765351</td>\n",
       "      <td>223.775485</td>\n",
       "      <td>15</td>\n",
       "      <td>277.00</td>\n",
       "      <td>480.5</td>\n",
       "      <td>608.50</td>\n",
       "      <td>970</td>\n",
       "    </tr>\n",
       "    <tr>\n",
       "      <th>18</th>\n",
       "      <td>456</td>\n",
       "      <td>430.859649</td>\n",
       "      <td>219.908138</td>\n",
       "      <td>23</td>\n",
       "      <td>240.75</td>\n",
       "      <td>422.5</td>\n",
       "      <td>564.00</td>\n",
       "      <td>977</td>\n",
       "    </tr>\n",
       "    <tr>\n",
       "      <th>19</th>\n",
       "      <td>456</td>\n",
       "      <td>315.278509</td>\n",
       "      <td>156.641732</td>\n",
       "      <td>11</td>\n",
       "      <td>190.00</td>\n",
       "      <td>312.5</td>\n",
       "      <td>416.00</td>\n",
       "      <td>743</td>\n",
       "    </tr>\n",
       "    <tr>\n",
       "      <th>20</th>\n",
       "      <td>456</td>\n",
       "      <td>228.517544</td>\n",
       "      <td>116.411565</td>\n",
       "      <td>11</td>\n",
       "      <td>136.75</td>\n",
       "      <td>224.0</td>\n",
       "      <td>302.00</td>\n",
       "      <td>551</td>\n",
       "    </tr>\n",
       "    <tr>\n",
       "      <th>21</th>\n",
       "      <td>456</td>\n",
       "      <td>173.370614</td>\n",
       "      <td>87.629319</td>\n",
       "      <td>6</td>\n",
       "      <td>103.50</td>\n",
       "      <td>171.5</td>\n",
       "      <td>230.00</td>\n",
       "      <td>584</td>\n",
       "    </tr>\n",
       "    <tr>\n",
       "      <th>22</th>\n",
       "      <td>456</td>\n",
       "      <td>133.576754</td>\n",
       "      <td>69.844495</td>\n",
       "      <td>9</td>\n",
       "      <td>80.00</td>\n",
       "      <td>129.0</td>\n",
       "      <td>175.00</td>\n",
       "      <td>502</td>\n",
       "    </tr>\n",
       "    <tr>\n",
       "      <th>23</th>\n",
       "      <td>456</td>\n",
       "      <td>89.508772</td>\n",
       "      <td>51.638004</td>\n",
       "      <td>4</td>\n",
       "      <td>52.75</td>\n",
       "      <td>80.0</td>\n",
       "      <td>123.00</td>\n",
       "      <td>256</td>\n",
       "    </tr>\n",
       "  </tbody>\n",
       "</table>\n",
       "</div>"
      ],
      "text/plain": [
       "      count        mean         std  min  Percentil 25  Percentil 50  \\\n",
       "hour                                                                   \n",
       "0       455   55.138462   43.620012    2         24.00          41.0   \n",
       "1       454   33.859031   34.112105    1         11.00          19.0   \n",
       "2       448   22.899554   26.110267    1          5.00          11.0   \n",
       "3       433   11.757506   12.666442    1          3.00           6.0   \n",
       "4       442    6.407240    4.217633    1          3.00           6.0   \n",
       "5       452   19.767699   12.784293    1          8.00          19.0   \n",
       "6       455   76.259341   54.745333    1         24.50          75.0   \n",
       "7       455  213.116484  159.207044    1         63.00         208.0   \n",
       "8       455  362.769231  231.723065    8        133.50         392.0   \n",
       "9       455  221.780220   92.099209   14        161.00         217.0   \n",
       "10      455  175.092308  101.807629   17        106.00         149.0   \n",
       "11      455  210.674725  127.444294   10        123.00         183.0   \n",
       "12      456  256.508772  143.881880    3        157.00         234.5   \n",
       "13      456  257.787281  149.167185   11        154.00         226.5   \n",
       "14      456  243.442982  147.563199   12        144.00         212.0   \n",
       "15      456  254.298246  144.235670    7        154.00         232.0   \n",
       "16      456  316.372807  145.664786   11        211.75         309.5   \n",
       "17      456  468.765351  223.775485   15        277.00         480.5   \n",
       "18      456  430.859649  219.908138   23        240.75         422.5   \n",
       "19      456  315.278509  156.641732   11        190.00         312.5   \n",
       "20      456  228.517544  116.411565   11        136.75         224.0   \n",
       "21      456  173.370614   87.629319    6        103.50         171.5   \n",
       "22      456  133.576754   69.844495    9         80.00         129.0   \n",
       "23      456   89.508772   51.638004    4         52.75          80.0   \n",
       "\n",
       "      Percentil 75  max  \n",
       "hour                     \n",
       "0            74.50  283  \n",
       "1            46.00  168  \n",
       "2            32.00  119  \n",
       "3            15.00   66  \n",
       "4             9.00   28  \n",
       "5            29.00   57  \n",
       "6           118.00  213  \n",
       "7           334.00  596  \n",
       "8           563.50  839  \n",
       "9           294.50  414  \n",
       "10          218.50  539  \n",
       "11          265.50  647  \n",
       "12          332.00  757  \n",
       "13          329.00  729  \n",
       "14          311.25  730  \n",
       "15          331.00  724  \n",
       "16          421.00  783  \n",
       "17          608.50  970  \n",
       "18          564.00  977  \n",
       "19          416.00  743  \n",
       "20          302.00  551  \n",
       "21          230.00  584  \n",
       "22          175.00  502  \n",
       "23          123.00  256  "
      ]
     },
     "execution_count": 19,
     "metadata": {},
     "output_type": "execute_result"
    }
   ],
   "source": [
    "# Celda 1.2\n",
    "#bikes.groupby('hour').total.mean()\n",
    "bikes.groupby('hour')['total'].agg([\n",
    "    'count', 'mean', 'std', 'min', \n",
    "    lambda x: x.quantile(0.25),\n",
    "    lambda x: x.quantile(0.5), \n",
    "    lambda x: x.quantile(0.75), \n",
    "    'max',\n",
    "    ]).rename(columns={\n",
    "    '<lambda_0>': 'Percentil 25',\n",
    "    '<lambda_1>': 'Percentil 50',\n",
    "    '<lambda_2>': 'Percentil 75',\n",
    "    })"
   ]
  },
  {
   "cell_type": "markdown",
   "metadata": {},
   "source": [
    "De acuerdo a la metadata de la base de datos, el campo hour corresponde a la hora del día en que fueron rentadas las bicicletas, teniendo el valor 0 como el periodo del día comprendido entre las 00:00 y las 00:59; y el valor 23 como el periodo comprendido entre las 23:00 y las 23:59.\n",
    "\n",
    "- Tal como se presentó con la variable \"season\", para la variable \"hour\" tenemos que los datos están homogeneamente distribuidos en la base de datos para cada hora del día, ya que el número de registros para cada valor que puede tomar la variable oscila entre 433 y 456.\n",
    "- En las horas de la madrugada y ya entrada la noche, la media de bicicletas rentadas disminuye considerablemente frente a las demás horas del día, siendo las 4 am la hora del día con menor media de renta de bicicletas.\n",
    "- La tarde es el horario con mayor media de renta de bicicletas ya que las horas 16,17,18 y 19 son las horas con mayor media (horas pico de demanda). Así mismo, estas mismas horas son las que presentan mayor desviación estándar, lo que nos puede llevar a inferir que dependiendo de la temporada, se presentan mayores rentas de bicicleta.\n",
    "- Estas mismas horas pico presentan el mayor percentil 75 del rango de horas del día, lo que confirma que estas horas sean las más demandadas estando el 25% de los casos muy por encima del promedio."
   ]
  },
  {
   "cell_type": "markdown",
   "metadata": {},
   "source": [
    "### Punto 2 - Análisis de gráficos\n",
    "\n",
    "Primero ejecute la celda 2.1 y asegúrese de comprender el código y el resultado. Luego, en cada una de celdas 2.2 y 2.3 escriba un código que genere una gráfica del número de bicicletas rentadas promedio para cada valor de la variable \"hour\" (hora) cuando la variable \"season\" es igual a 1 (invierno) e igual a 3 (verano), respectivamente. Analice y escriba sus hallazgos."
   ]
  },
  {
   "cell_type": "code",
   "execution_count": 23,
   "metadata": {},
   "outputs": [
    {
     "data": {
      "text/plain": [
       "<Axes: xlabel='hour'>"
      ]
     },
     "execution_count": 23,
     "metadata": {},
     "output_type": "execute_result"
    },
    {
     "data": {
      "image/png": "[encoded data removed]",
      "text/plain": [
       "<Figure size 640x480 with 1 Axes>"
      ]
     },
     "metadata": {},
     "output_type": "display_data"
    }
   ],
   "source": [
    "# Celda 2.1 - rentas promedio para cada valor de la variable \"hour\"\n",
    "bikes.groupby('hour').total.mean().plot()"
   ]
  },
  {
   "cell_type": "code",
   "execution_count": 25,
   "metadata": {},
   "outputs": [
    {
     "data": {
      "text/plain": [
       "<Axes: xlabel='hour'>"
      ]
     },
     "execution_count": 25,
     "metadata": {},
     "output_type": "execute_result"
    },
    {
     "data": {
      "image/png": "[encoded data removed]",
      "text/plain": [
       "<Figure size 640x480 with 1 Axes>"
      ]
     },
     "metadata": {},
     "output_type": "display_data"
    }
   ],
   "source": [
    "# Celda 2.2 - \"season\"=1 escriba su código y hallazgos \n",
    "bikes[bikes['season'] == 1].groupby('hour').total.mean().plot()"
   ]
  },
  {
   "cell_type": "code",
   "execution_count": 27,
   "metadata": {},
   "outputs": [
    {
     "data": {
      "text/plain": [
       "<Axes: xlabel='hour'>"
      ]
     },
     "execution_count": 27,
     "metadata": {},
     "output_type": "execute_result"
    },
    {
     "data": {
      "image/png": "[encoded data removed]",
      "text/plain": [
       "<Figure size 640x480 with 1 Axes>"
      ]
     },
     "metadata": {},
     "output_type": "display_data"
    }
   ],
   "source": [
    "# Celda 2.3 - \"season\"=3 escriba su código y hallazgos \n",
    "bikes[bikes['season'] == 3].groupby('hour').total.mean().plot()"
   ]
  },
  {
   "cell_type": "markdown",
   "metadata": {},
   "source": [
    "Como se puede observar en los gráficos, para ambas temporadas (invierno y verano) el patrón de demanda de bicicletas rentadas por hora es el mismo, sin embargo, la media de bicicletas rentada para cada temporada es diferente siendo en verano mucho mayor que en invierno.\n",
    "Esto nos muestra que el comportamiento de la demanda de bicicletas es idéntico en cada temporada, y esto se puede deber a que se renten las bicicletas para movilizarse al trabajo, estudio o demás actividades rutinarias; pero que dependiendo la temporada, se rentarán con mayor (para el caso del verano) o menor (para el caso del invierno) demanda."
   ]
  },
  {
   "cell_type": "markdown",
   "metadata": {},
   "source": [
    "### Punto 3 - Regresión lineal\n",
    "En la celda 3 ajuste un modelo de regresión lineal a todo el conjunto de datos, utilizando \"total\" como variable de respuesta y \"season\" y \"hour\" como las únicas variables predictoras, teniendo en cuenta que la variable \"season\" es categórica. Luego, imprima los coeficientes e interprételos. ¿Cuáles son las limitaciones de la regresión lineal en este caso?"
   ]
  },
  {
   "cell_type": "code",
   "execution_count": 148,
   "metadata": {},
   "outputs": [
    {
     "name": "stdout",
     "output_type": "stream",
     "text": [
      "los coeficientes del modelo de regresion lineal son: \n",
      " hour: 10.628738853601385\n",
      " season_2: 100.9077679258173\n",
      " season_3: 119.01866420639179\n",
      " season_4: 87.24739029747784\n",
      "El error MSE del modelo de regresión lineal es: 25644.421108938277 \n",
      "El error cuadrado del modelo lineal es: 0.21517712032533343\n"
     ]
    }
   ],
   "source": [
    "# Celda 3\n",
    "df_lineal = bikes[['season','hour','total']]\n",
    "df_lineal = pd.get_dummies(df_lineal, columns=['season'], drop_first=True).astype(int)\n",
    "X_lineal = df_lineal.drop(columns='total')\n",
    "Y_lineal = df_lineal['total']\n",
    "XTrain_l, XTest_l, yTrain_l, yTest_l = train_test_split(X_lineal, Y_lineal, test_size=0.33, random_state=0)\n",
    "modelo_lineal = LinearRegression()\n",
    "modelo_lineal.fit(XTrain_l, yTrain_l)\n",
    "prediccion_lineal = modelo_lineal.predict(XTest_l)\n",
    "MSE_lineal=np.average(np.square(prediccion_lineal-yTest_l))\n",
    "R2_lineal = modelo_lineal.score(XTest_l,yTest_l)\n",
    "\n",
    "print(f'los coeficientes del modelo de regresion lineal son: ')\n",
    "for variable, coef in zip(XTrain_l.columns, modelo_lineal.coef_):\n",
    "    print(f\" {variable}: {coef}\")\n",
    "print(f'El error MSE del modelo de regresión lineal es: {MSE_lineal} \\nEl error cuadrado del modelo lineal es: {R2_lineal}') "
   ]
  },
  {
   "cell_type": "markdown",
   "metadata": {},
   "source": [
    "En el procedimiento anterior, primero se seleccionaron las variables a trabajar en el modelo: 'season','hour','total'. Posterior a esto se convirtió a dummie la variable categórica 'season' para poderla trabajar dentro de un modelo de regresión lineal excluyendo la primer temporada 'invierno' para así evital la multicolinealidad entre las variables predictoras. \n",
    "Se separá el conjunto de datos en muestras de train y test para poder evaluar el desempeño del modelo, se construye el modelo y finalmente se calculan métricas de error e imprimen coeficientes del modelo.\n",
    "\n",
    "A partir de los coeficientes resultantes del modelo, podemos interpretar\n",
    "\n",
    "- Por cada hora que el día avanza, y mientras las demás variables permanezcan constantes, en promedio se rentarán 10 bicicletas\n",
    "- Al realizar la conversión de la variable \"season\" y eliminar de las variables la estación invierno, los coeficientes de las variables season_2, season_3 y season_4, representan el impacto adicional de cada una de ellas frente a la variable total comparado con invierno. Dicho esto, frente a la temporada invierno, si las demás variables permanecen constantes, el impacto adicional de la estación primavera sobre el número de bicicletas rentadas es de 100.9.\n",
    "- Frente a la temporada invierno, si las demás variables permanecen constantes, el impacto adicional de la estación verano sobre el número de bicicletas rentadas es de 119.01.\n",
    "- Frente a la temporada invierno, si las demás variables permanecen constantes, el impacto adicional de la estación otoño sobre el número de bicicletas rentadas es de 87.2.\n",
    "- Los coeficientes de las variables  season_2, season_3 y season_4, al ser positivas, confirman inferencias hechas en el análisis descriptivo, en el sentido que en la estación invierno es cuando menos se rentan bicicletas, y las estaciones en las que más se rentan con verano y primavera (con coeficientes más altos).\n",
    "\n",
    "Limitaciones del modelo de regresión lineal:\n",
    "\n",
    "- Como se pudo observar en el análisis descriptivo, la relación entre la variable hour y total, no es necesariamente lineal ya que se observan picos y patrones de demanda que no se ajustan a un modelo lineal y limitan la capacidad de predicción dle modelo.\n",
    "- Aunque los coeficientes de las variables predictoras confirman ciertas inferencias hechas en el análisis descriptivo ( como que la estación invierno es cuando menos se rentan bicicletas, y las estaciones en las que más se rentan con verano y primavera) la relación entre estas interacciones no obedece únicamente a una relación lineal. El modelo lineal simplifica demasiado la interacción de las estaciones frente al número de bicicletas rentadas\n",
    "- El error cuadrado tan bajo (21.5%) confirma que el modelo lineal solamente puede explicar el 21% del comportamiento de la variable total. No es capaz de explicar el 79% del comportamiento de la variable.\n",
    "- El error MSE de 25,644 cuando la media de la variable a predecir es 191.5, su percentil 75 es de 284 y su máximo de 977, confirma la baja capacidad que tiene el modelo para explicar las interacciones entre las variables predictoras y la variable a predecir."
   ]
  },
  {
   "cell_type": "markdown",
   "metadata": {},
   "source": [
    "### Punto 4 - Árbol de decisión manual\n",
    "En la celda 4 cree un árbol de decisiones para pronosticar la variable \"total\" iterando **manualmente** sobre las variables \"hour\" y  \"season\". El árbol debe tener al menos 6 nodos finales."
   ]
  },
  {
   "cell_type": "code",
   "execution_count": 231,
   "metadata": {},
   "outputs": [],
   "source": [
    "df_arbol_manual = bikes[['season','hour','total']]\n",
    "X_arbol = df_arbol_manual.drop(columns='total')\n",
    "Y_arbol = df_arbol_manual['total']\n",
    "XTrain_a, XTest_a, yTrain_a, yTest_a = train_test_split(X_arbol, Y_arbol, test_size=0.33, random_state=0)"
   ]
  },
  {
   "cell_type": "markdown",
   "metadata": {},
   "source": [
    "Se separan las muestras en Train y Test para poderlas utilizar en el modelo y luego evaluar la capacidad de predicción del modelo"
   ]
  },
  {
   "cell_type": "code",
   "execution_count": 391,
   "metadata": {},
   "outputs": [],
   "source": [
    "def mse_min(X_col, y, split):\n",
    "    \n",
    "    filter_l = X_col < split\n",
    "    y_l = y.loc[filter_l]\n",
    "    y_r = y.loc[~filter_l]\n",
    "    \n",
    "    n_l = y_l.shape[0]\n",
    "    n_r = y_r.shape[0]\n",
    "    \n",
    "    if n_l == 0 or n_r == 0:\n",
    "        return 0\n",
    "    \n",
    "    mse_y = y.var()\n",
    "    mse_l = y_l.var() if n_l > 0 else 0\n",
    "    mse_r = y_r.var() if n_r > 0 else 0\n",
    "\n",
    "    mse_min_ = mse_y - (n_l / (n_l + n_r) * mse_l + n_r / (n_l + n_r) * mse_r)\n",
    "    return mse_min_"
   ]
  },
  {
   "cell_type": "markdown",
   "metadata": {},
   "source": [
    "Se crea la función mse_min que lo que hará es calcular el error mse para cada división que se haga en la función best_split."
   ]
  },
  {
   "cell_type": "code",
   "execution_count": 393,
   "metadata": {},
   "outputs": [],
   "source": [
    "def best_split(X, y):\n",
    "    \n",
    "    features = range(X.shape[1])\n",
    "    \n",
    "    best_split = [0, 0, 0]  # j, split, gain\n",
    "    \n",
    "    # Para todas las varibles \n",
    "    for j in features:    \n",
    "        splits = np.unique(X.iloc[:, j])[:-1]\n",
    "        # Para cada partición\n",
    "        for split in splits:\n",
    "            gain = mse_min(X.iloc[:, j], y, split)\n",
    "                        \n",
    "            if gain > best_split[2]:\n",
    "                best_split = [j, split, gain]\n",
    "    \n",
    "    return best_split"
   ]
  },
  {
   "cell_type": "markdown",
   "metadata": {},
   "source": [
    "Se crea la función best_split que evaluará todos los posibles valores que pueden tomar las variables predictoras (aunque computacionalmente no es lo recomendable, para el caso de uso del taller en el que se tienen pocos valores para cada variable se hará así) y determinar cuál es el mejor valor para cada variable para hacer la división."
   ]
  },
  {
   "cell_type": "code",
   "execution_count": 370,
   "metadata": {},
   "outputs": [],
   "source": [
    "def tree_grow(X, y, level=0,min_gain=0.001, max_depth=None):\n",
    "    # Si solo es una observación\n",
    "    if X.shape[0] == 1:\n",
    "        return None\n",
    "    \n",
    "    # Calcular la mejor división\n",
    "    j, split, gain = best_split(X, y)\n",
    "    \n",
    "    # Guardar el árbol y estimar la predicción\n",
    "    y_pred = y.mean() \n",
    "    \n",
    "    tree = dict(y_pred=y_pred, level=level, split=-1, n_samples=X.shape[0], gain=gain)\n",
    "    if gain < min_gain:\n",
    "        return tree\n",
    "    if max_depth is not None:\n",
    "        if level >= max_depth:\n",
    "            return tree   \n",
    "    \n",
    "    # Continuar creando la partición\n",
    "    filter_l = X.iloc[:, j] < split\n",
    "    X_l, y_l = X.loc[filter_l], y.loc[filter_l]\n",
    "    X_r, y_r = X.loc[~filter_l], y.loc[~filter_l]\n",
    "    tree['split'] = [j, split]\n",
    "\n",
    "    # Siguiente iteración para cada partición\n",
    "    \n",
    "    tree['sl'] = tree_grow(X_l, y_l, level + 1, min_gain=min_gain, max_depth=max_depth)\n",
    "    tree['sr'] = tree_grow(X_r, y_r, level + 1, min_gain=min_gain, max_depth=max_depth)\n",
    "    \n",
    "    return tree"
   ]
  },
  {
   "cell_type": "markdown",
   "metadata": {},
   "source": [
    "Se crea la función tree_grow que creará el árbol de decisión para realizar la predicción de la variable total. De igual forma utiliza los criterios de parada min_gain y max_depth."
   ]
  },
  {
   "cell_type": "code",
   "execution_count": 368,
   "metadata": {},
   "outputs": [],
   "source": [
    "def conteo_arbol(tree):\n",
    "    if tree['split'] == -1:  \n",
    "        return 1\n",
    "    return conteo_arbol(tree['sl']) + conteo_arbol(tree['sr'])"
   ]
  },
  {
   "cell_type": "markdown",
   "metadata": {},
   "source": [
    "Se crea la función conteo_arbol para contar cuántos nodos finales tiene el árbol creado en tree_grow."
   ]
  },
  {
   "cell_type": "code",
   "execution_count": 401,
   "metadata": {},
   "outputs": [],
   "source": [
    "def arbol_nodos(X, Y, level, min_gain, max_depth):\n",
    "    nodos_finales = 0\n",
    "    while nodos_finales < 6:\n",
    "        tree = tree_grow(X, Y, level, min_gain, max_depth)\n",
    "        nodos_finales = conteo_arbol(tree)\n",
    "        if nodos_finales < 6 and max_depth is not None:\n",
    "            max_depth += 1\n",
    "    return tree,max_depth"
   ]
  },
  {
   "cell_type": "markdown",
   "metadata": {},
   "source": [
    "Se crea la función arbol_nodos para ajustar el parámetro max_depth definido por el usuario, en caso que con el max_depth definido no se alcance el mínimo de nodos finales definidos, se aumentará una unidad del max_depth hasta que se cumpla el criterio."
   ]
  },
  {
   "cell_type": "code",
   "execution_count": 471,
   "metadata": {},
   "outputs": [],
   "source": [
    "resultado = arbol_nodos(XTrain_a, yTrain_a, level=0, min_gain=0.001, max_depth=1)\n",
    "arbol = resultado[0]\n",
    "max_depth_recalculado = resultado[1]"
   ]
  },
  {
   "cell_type": "markdown",
   "metadata": {},
   "source": [
    "Se corre el arbol de decisión manual para la regresión."
   ]
  },
  {
   "cell_type": "code",
   "execution_count": 473,
   "metadata": {},
   "outputs": [
    {
     "data": {
      "text/plain": [
       "3"
      ]
     },
     "execution_count": 473,
     "metadata": {},
     "output_type": "execute_result"
    }
   ],
   "source": [
    "max_depth_recalculado"
   ]
  },
  {
   "cell_type": "code",
   "execution_count": 475,
   "metadata": {},
   "outputs": [
    {
     "data": {
      "text/plain": [
       "{'y_pred': 189.627313862608,\n",
       " 'level': 0,\n",
       " 'split': [1, 7],\n",
       " 'n_samples': 7293,\n",
       " 'gain': 10266.417356290967,\n",
       " 'sl': {'y_pred': 32.450256889304065,\n",
       "  'level': 1,\n",
       "  'split': [1, 1],\n",
       "  'n_samples': 2141,\n",
       "  'gain': 88.75900800081376,\n",
       "  'sl': {'y_pred': 55.41157556270097,\n",
       "   'level': 2,\n",
       "   'split': [0, 2],\n",
       "   'n_samples': 311,\n",
       "   'gain': 262.62545348714616,\n",
       "   'sl': {'y_pred': 27.531645569620252,\n",
       "    'level': 3,\n",
       "    'split': -1,\n",
       "    'n_samples': 79,\n",
       "    'gain': 0},\n",
       "   'sr': {'y_pred': 64.90517241379311,\n",
       "    'level': 3,\n",
       "    'split': -1,\n",
       "    'n_samples': 232,\n",
       "    'gain': 6.489658294854962}},\n",
       "  'sr': {'y_pred': 28.54808743169399,\n",
       "   'level': 2,\n",
       "   'split': [1, 5],\n",
       "   'n_samples': 1830,\n",
       "   'gain': 178.3422260573268,\n",
       "   'sl': {'y_pred': 19.000824402308325,\n",
       "    'level': 3,\n",
       "    'split': -1,\n",
       "    'n_samples': 1213,\n",
       "    'gain': 95.035785609615},\n",
       "   'sr': {'y_pred': 47.31766612641815,\n",
       "    'level': 3,\n",
       "    'split': -1,\n",
       "    'n_samples': 617,\n",
       "    'gain': 137.76945720358935}}},\n",
       " 'sr': {'y_pred': 254.9448757763975,\n",
       "  'level': 1,\n",
       "  'split': [0, 2],\n",
       "  'n_samples': 5152,\n",
       "  'gain': 3560.0362386378074,\n",
       "  'sl': {'y_pred': 152.40337423312883,\n",
       "   'level': 2,\n",
       "   'split': [1, 21],\n",
       "   'n_samples': 1304,\n",
       "   'gain': 1487.0774625081522,\n",
       "   'sl': {'y_pred': 170.21767441860464,\n",
       "    'level': 3,\n",
       "    'split': -1,\n",
       "    'n_samples': 1075,\n",
       "    'gain': 698.9877652199975},\n",
       "   'sr': {'y_pred': 68.77729257641921,\n",
       "    'level': 3,\n",
       "    'split': -1,\n",
       "    'n_samples': 229,\n",
       "    'gain': 310.70753557695025}},\n",
       "  'sr': {'y_pred': 289.69386694386696,\n",
       "   'level': 2,\n",
       "   'split': [1, 21],\n",
       "   'n_samples': 3848,\n",
       "   'gain': 4134.822359331258,\n",
       "   'sl': {'y_pred': 319.57093206951026,\n",
       "    'level': 3,\n",
       "    'split': -1,\n",
       "    'n_samples': 3165,\n",
       "    'gain': 3746.980881732743},\n",
       "   'sr': {'y_pred': 151.24450951683747,\n",
       "    'level': 3,\n",
       "    'split': -1,\n",
       "    'n_samples': 683,\n",
       "    'gain': 1089.6728426506952}}}}"
      ]
     },
     "execution_count": 475,
     "metadata": {},
     "output_type": "execute_result"
    }
   ],
   "source": [
    "arbol"
   ]
  },
  {
   "cell_type": "code",
   "execution_count": 457,
   "metadata": {},
   "outputs": [],
   "source": [
    "def tree_predict(X, tree):\n",
    "    \n",
    "    predicted = np.ones(X.shape[0])\n",
    "\n",
    "    # Revisar si es el nodo final\n",
    "    if tree['split'] == -1:\n",
    "        predicted = predicted * tree['y_pred']\n",
    "            \n",
    "    else:\n",
    "        \n",
    "        j, split = tree['split']\n",
    "        filter_l = (X.iloc[:, j] < split)\n",
    "        X_l = X.loc[filter_l]\n",
    "        X_r = X.loc[~filter_l]\n",
    "\n",
    "        if X_l.shape[0] == 0:  # Si el nodo izquierdo está vacio solo continua con el derecho \n",
    "            predicted[~filter_l] = tree_predict(X_r, tree['sr'])\n",
    "        elif X_r.shape[0] == 0:  #  Si el nodo derecho está vacio solo continua con el izquierdo\n",
    "            predicted[filter_l] = tree_predict(X_l, tree['sl'])\n",
    "        else:\n",
    "            predicted[filter_l] = tree_predict(X_l, tree['sl'])\n",
    "            predicted[~filter_l] = tree_predict(X_r, tree['sr'])\n",
    "\n",
    "    return predicted"
   ]
  },
  {
   "cell_type": "code",
   "execution_count": 477,
   "metadata": {},
   "outputs": [
    {
     "name": "stdout",
     "output_type": "stream",
     "text": [
      "El error MSE del modelo de árbol de decisión manual es: 17793.090291537384 \n",
      "El error cuadrado del modelo árbol de decisión manual es: 0.5897774847423695\n"
     ]
    }
   ],
   "source": [
    "prediccion_arbol_manual = tree_predict(XTest_a,arbol)\n",
    "MSE_arbol_manual=np.average(np.square(prediccion_arbol_manual-yTest_l))\n",
    "R2_arbol_manual = arbol_skl.score(XTest_l,yTest_l)\n",
    "print(f'El error MSE del modelo de árbol de decisión manual es: {MSE_arbol_manual} \\nEl error cuadrado del modelo árbol de decisión manual es: {R2_arbol_manual}') "
   ]
  },
  {
   "cell_type": "markdown",
   "metadata": {},
   "source": [
    "### Punto 5 - Árbol de decisión con librería\n",
    "En la celda 5 entrene un árbol de decisiones con la **librería sklearn**, usando las variables predictoras \"season\" y \"hour\" y calibre los parámetros que considere conveniente para obtener un mejor desempeño. Recuerde dividir los datos en conjuntos de entrenamiento y validación para esto. Comente el desempeño del modelo con alguna métrica de desempeño de modelos de regresión y compare desempeño con el modelo del punto 3."
   ]
  },
  {
   "cell_type": "code",
   "execution_count": 487,
   "metadata": {},
   "outputs": [],
   "source": [
    "# Celda 5\n",
    "max_depth_range = range(1, 10)\n",
    "max_features_range = range(1,10)\n",
    "accuracy_scores = []\n",
    "\n",
    "for depth in max_depth_range:\n",
    "    for feature in max_features_range:\n",
    "        clf = DecisionTreeRegressor(max_depth=depth, max_features=feature, random_state=1)\n",
    "        score = cross_val_score(clf, XTrain_l, yTrain_l, cv=10, scoring='r2').mean()\n",
    "        accuracy_scores.append((depth, feature, score))\n",
    "accuracy_scores = np.array(accuracy_scores)"
   ]
  },
  {
   "cell_type": "code",
   "execution_count": 172,
   "metadata": {},
   "outputs": [
    {
     "name": "stdout",
     "output_type": "stream",
     "text": [
      "Mejor score: Max Depth = 9.0, Max Features = 2.0, Score = 0.6074003662248549\n"
     ]
    }
   ],
   "source": [
    "# Encontrar el índice del valor máximo en score_values\n",
    "max_score = np.argmax(accuracy_scores)\n",
    "mejor_depth = accuracy_scores[:, 0][max_score].astype(int)\n",
    "mejor_feature = accuracy_scores[:, 1][max_score].astype(int)\n",
    "mejor_score = accuracy_scores[:, 2][max_score]\n",
    "print(f\"Mejor score: Max Depth = {best_depth}, Max Features = {best_feature}, Score = {best_score}\")"
   ]
  },
  {
   "cell_type": "code",
   "execution_count": 150,
   "metadata": {},
   "outputs": [],
   "source": [
    "arbol_skl = DecisionTreeRegressor(max_depth=mejor_depth, max_features=mejor_feature, random_state=1)\n",
    "arbol_skl.fit(XTrain_l,yTrain_l)\n",
    "prediccion_arbol_skl = arbol_skl.predict(XTest_l)"
   ]
  },
  {
   "cell_type": "code",
   "execution_count": 439,
   "metadata": {},
   "outputs": [
    {
     "name": "stdout",
     "output_type": "stream",
     "text": [
      "El error MSE del modelo de árbol de decisión con sklearn es: 13404.195012759272 \n",
      "El error cuadrado del modelo árbol de decisión con sklearn es: 0.5897774847423695\n"
     ]
    }
   ],
   "source": [
    "MSE_arbol_skl=np.average(np.square(prediccion_arbol_skl-yTest_l))\n",
    "R2_arbol_skl = arbol_skl.score(XTest_l,yTest_l)\n",
    "print(f'El error MSE del modelo de árbol de decisión con sklearn es: {MSE_arbol_skl} \\nEl error cuadrado del modelo árbol de decisión con sklearn es: {R2_arbol_skl}') "
   ]
  },
  {
   "cell_type": "code",
   "execution_count": 176,
   "metadata": {},
   "outputs": [
    {
     "data": {
      "image/png": "[encoded data removed]",
      "text/plain": [
       "<Figure size 640x480 with 1 Axes>"
      ]
     },
     "metadata": {},
     "output_type": "display_data"
    }
   ],
   "source": [
    "fig = plt.figure()\n",
    "ax = fig.add_axes([0,0,1,1])\n",
    "ax.set_title(\"Comparación de modelos\")\n",
    "ejeX = ['Regresión Lineal','Árbol Sklearn']\n",
    "ejeY = [R2_lineal,R2_arbol_skl]\n",
    "ax.bar(ejeX,ejeY)\n",
    "def addlabels(x,y,plotP):\n",
    "    for i in range(len(x)):\n",
    "        ax.text(i, y[i], f'{y[i]:.3f}', ha='center', va='bottom')\n",
    "addlabels(ejeX,ejeY,plt)\n",
    "plt.show()"
   ]
  },
  {
   "cell_type": "markdown",
   "metadata": {},
   "source": [
    "Con base en la calibración del árbol de decisión con Skitlearn, obtenemos que los mejores parámetros para depth y feature son 9 y 2 respectivamente. Construyendo el modelo con estos parámetros y evaluando el mismo con los datos de test, encontramos que el desempeño del modelo mejora considerablemente frente a la regresión lineal en términos del R cuadrado y del MSE pues se pasa de un 0.21 a 0.59 y de un 25644 a 13404 respectivamente. \n",
    "Estos resultados demuestran que el árbol de decisión explica mejor el comportamiento de la variable total, aunque aún sigue siendo un modelo que se queda corto en su desempeño."
   ]
  },
  {
   "cell_type": "markdown",
   "metadata": {},
   "source": [
    "## Parte B - Métodos de ensamblajes\n",
    "En esta parte del taller se usará el conjunto de datos de Popularidad de Noticias Online. El objetivo es predecir si la notica es popular o no, la popularidad está dada por la cantidad de reacciones en redes sociales. Para más detalles puede visitar el siguiente enlace: [datos](https://archive.ics.uci.edu/ml/datasets/online+news+popularity)."
   ]
  },
  {
   "cell_type": "markdown",
   "metadata": {},
   "source": [
    "### Datos popularidad de noticias"
   ]
  },
  {
   "cell_type": "code",
   "execution_count": 479,
   "metadata": {},
   "outputs": [
    {
     "data": {
      "text/html": [
       "<div>\n",
       "<style scoped>\n",
       "    .dataframe tbody tr th:only-of-type {\n",
       "        vertical-align: middle;\n",
       "    }\n",
       "\n",
       "    .dataframe tbody tr th {\n",
       "        vertical-align: top;\n",
       "    }\n",
       "\n",
       "    .dataframe thead th {\n",
       "        text-align: right;\n",
       "    }\n",
       "</style>\n",
       "<table border=\"1\" class=\"dataframe\">\n",
       "  <thead>\n",
       "    <tr style=\"text-align: right;\">\n",
       "      <th></th>\n",
       "      <th>url</th>\n",
       "      <th>timedelta</th>\n",
       "      <th>n_tokens_title</th>\n",
       "      <th>n_tokens_content</th>\n",
       "      <th>n_unique_tokens</th>\n",
       "      <th>n_non_stop_words</th>\n",
       "      <th>n_non_stop_unique_tokens</th>\n",
       "      <th>num_hrefs</th>\n",
       "      <th>num_self_hrefs</th>\n",
       "      <th>num_imgs</th>\n",
       "      <th>...</th>\n",
       "      <th>min_positive_polarity</th>\n",
       "      <th>max_positive_polarity</th>\n",
       "      <th>avg_negative_polarity</th>\n",
       "      <th>min_negative_polarity</th>\n",
       "      <th>max_negative_polarity</th>\n",
       "      <th>title_subjectivity</th>\n",
       "      <th>title_sentiment_polarity</th>\n",
       "      <th>abs_title_subjectivity</th>\n",
       "      <th>abs_title_sentiment_polarity</th>\n",
       "      <th>Popular</th>\n",
       "    </tr>\n",
       "  </thead>\n",
       "  <tbody>\n",
       "    <tr>\n",
       "      <th>0</th>\n",
       "      <td>http://mashable.com/2014/12/10/cia-torture-rep...</td>\n",
       "      <td>28.0</td>\n",
       "      <td>9.0</td>\n",
       "      <td>188.0</td>\n",
       "      <td>0.732620</td>\n",
       "      <td>1.0</td>\n",
       "      <td>0.844262</td>\n",
       "      <td>5.0</td>\n",
       "      <td>1.0</td>\n",
       "      <td>1.0</td>\n",
       "      <td>...</td>\n",
       "      <td>0.200000</td>\n",
       "      <td>0.80</td>\n",
       "      <td>-0.487500</td>\n",
       "      <td>-0.60</td>\n",
       "      <td>-0.250000</td>\n",
       "      <td>0.9</td>\n",
       "      <td>0.8</td>\n",
       "      <td>0.4</td>\n",
       "      <td>0.8</td>\n",
       "      <td>1</td>\n",
       "    </tr>\n",
       "    <tr>\n",
       "      <th>1</th>\n",
       "      <td>http://mashable.com/2013/10/18/bitlock-kicksta...</td>\n",
       "      <td>447.0</td>\n",
       "      <td>7.0</td>\n",
       "      <td>297.0</td>\n",
       "      <td>0.653199</td>\n",
       "      <td>1.0</td>\n",
       "      <td>0.815789</td>\n",
       "      <td>9.0</td>\n",
       "      <td>4.0</td>\n",
       "      <td>1.0</td>\n",
       "      <td>...</td>\n",
       "      <td>0.160000</td>\n",
       "      <td>0.50</td>\n",
       "      <td>-0.135340</td>\n",
       "      <td>-0.40</td>\n",
       "      <td>-0.050000</td>\n",
       "      <td>0.1</td>\n",
       "      <td>-0.1</td>\n",
       "      <td>0.4</td>\n",
       "      <td>0.1</td>\n",
       "      <td>0</td>\n",
       "    </tr>\n",
       "    <tr>\n",
       "      <th>2</th>\n",
       "      <td>http://mashable.com/2013/07/24/google-glass-po...</td>\n",
       "      <td>533.0</td>\n",
       "      <td>11.0</td>\n",
       "      <td>181.0</td>\n",
       "      <td>0.660377</td>\n",
       "      <td>1.0</td>\n",
       "      <td>0.775701</td>\n",
       "      <td>4.0</td>\n",
       "      <td>3.0</td>\n",
       "      <td>1.0</td>\n",
       "      <td>...</td>\n",
       "      <td>0.136364</td>\n",
       "      <td>1.00</td>\n",
       "      <td>0.000000</td>\n",
       "      <td>0.00</td>\n",
       "      <td>0.000000</td>\n",
       "      <td>0.3</td>\n",
       "      <td>1.0</td>\n",
       "      <td>0.2</td>\n",
       "      <td>1.0</td>\n",
       "      <td>0</td>\n",
       "    </tr>\n",
       "    <tr>\n",
       "      <th>3</th>\n",
       "      <td>http://mashable.com/2013/11/21/these-are-the-m...</td>\n",
       "      <td>413.0</td>\n",
       "      <td>12.0</td>\n",
       "      <td>781.0</td>\n",
       "      <td>0.497409</td>\n",
       "      <td>1.0</td>\n",
       "      <td>0.677350</td>\n",
       "      <td>10.0</td>\n",
       "      <td>3.0</td>\n",
       "      <td>1.0</td>\n",
       "      <td>...</td>\n",
       "      <td>0.100000</td>\n",
       "      <td>1.00</td>\n",
       "      <td>-0.195701</td>\n",
       "      <td>-0.40</td>\n",
       "      <td>-0.071429</td>\n",
       "      <td>0.0</td>\n",
       "      <td>0.0</td>\n",
       "      <td>0.5</td>\n",
       "      <td>0.0</td>\n",
       "      <td>0</td>\n",
       "    </tr>\n",
       "    <tr>\n",
       "      <th>4</th>\n",
       "      <td>http://mashable.com/2014/02/11/parking-ticket-...</td>\n",
       "      <td>331.0</td>\n",
       "      <td>8.0</td>\n",
       "      <td>177.0</td>\n",
       "      <td>0.685714</td>\n",
       "      <td>1.0</td>\n",
       "      <td>0.830357</td>\n",
       "      <td>3.0</td>\n",
       "      <td>2.0</td>\n",
       "      <td>1.0</td>\n",
       "      <td>...</td>\n",
       "      <td>0.100000</td>\n",
       "      <td>0.55</td>\n",
       "      <td>-0.175000</td>\n",
       "      <td>-0.25</td>\n",
       "      <td>-0.100000</td>\n",
       "      <td>0.0</td>\n",
       "      <td>0.0</td>\n",
       "      <td>0.5</td>\n",
       "      <td>0.0</td>\n",
       "      <td>0</td>\n",
       "    </tr>\n",
       "  </tbody>\n",
       "</table>\n",
       "<p>5 rows × 61 columns</p>\n",
       "</div>"
      ],
      "text/plain": [
       "                                                 url  timedelta  \\\n",
       "0  http://mashable.com/2014/12/10/cia-torture-rep...       28.0   \n",
       "1  http://mashable.com/2013/10/18/bitlock-kicksta...      447.0   \n",
       "2  http://mashable.com/2013/07/24/google-glass-po...      533.0   \n",
       "3  http://mashable.com/2013/11/21/these-are-the-m...      413.0   \n",
       "4  http://mashable.com/2014/02/11/parking-ticket-...      331.0   \n",
       "\n",
       "   n_tokens_title  n_tokens_content  n_unique_tokens  n_non_stop_words  \\\n",
       "0             9.0             188.0         0.732620               1.0   \n",
       "1             7.0             297.0         0.653199               1.0   \n",
       "2            11.0             181.0         0.660377               1.0   \n",
       "3            12.0             781.0         0.497409               1.0   \n",
       "4             8.0             177.0         0.685714               1.0   \n",
       "\n",
       "   n_non_stop_unique_tokens  num_hrefs  num_self_hrefs  num_imgs  ...  \\\n",
       "0                  0.844262        5.0             1.0       1.0  ...   \n",
       "1                  0.815789        9.0             4.0       1.0  ...   \n",
       "2                  0.775701        4.0             3.0       1.0  ...   \n",
       "3                  0.677350       10.0             3.0       1.0  ...   \n",
       "4                  0.830357        3.0             2.0       1.0  ...   \n",
       "\n",
       "   min_positive_polarity  max_positive_polarity  avg_negative_polarity  \\\n",
       "0               0.200000                   0.80              -0.487500   \n",
       "1               0.160000                   0.50              -0.135340   \n",
       "2               0.136364                   1.00               0.000000   \n",
       "3               0.100000                   1.00              -0.195701   \n",
       "4               0.100000                   0.55              -0.175000   \n",
       "\n",
       "   min_negative_polarity  max_negative_polarity  title_subjectivity  \\\n",
       "0                  -0.60              -0.250000                 0.9   \n",
       "1                  -0.40              -0.050000                 0.1   \n",
       "2                   0.00               0.000000                 0.3   \n",
       "3                  -0.40              -0.071429                 0.0   \n",
       "4                  -0.25              -0.100000                 0.0   \n",
       "\n",
       "   title_sentiment_polarity  abs_title_subjectivity  \\\n",
       "0                       0.8                     0.4   \n",
       "1                      -0.1                     0.4   \n",
       "2                       1.0                     0.2   \n",
       "3                       0.0                     0.5   \n",
       "4                       0.0                     0.5   \n",
       "\n",
       "   abs_title_sentiment_polarity  Popular  \n",
       "0                           0.8        1  \n",
       "1                           0.1        0  \n",
       "2                           1.0        0  \n",
       "3                           0.0        0  \n",
       "4                           0.0        0  \n",
       "\n",
       "[5 rows x 61 columns]"
      ]
     },
     "execution_count": 479,
     "metadata": {},
     "output_type": "execute_result"
    }
   ],
   "source": [
    "# Lectura de la información de archivo .csv\n",
    "df = pd.read_csv('https://raw.githubusercontent.com/davidzarruk/MIAD_ML_NLP_2023/main/datasets/mashable.csv', index_col=0)\n",
    "df.head()"
   ]
  },
  {
   "cell_type": "code",
   "execution_count": 481,
   "metadata": {},
   "outputs": [
    {
     "data": {
      "text/plain": [
       "0.5"
      ]
     },
     "execution_count": 481,
     "metadata": {},
     "output_type": "execute_result"
    }
   ],
   "source": [
    "# Definición variable de interes y variables predictoras\n",
    "X = df.drop(['url', 'Popular'], axis=1)\n",
    "y = df['Popular']\n",
    "y.mean()"
   ]
  },
  {
   "cell_type": "code",
   "execution_count": 483,
   "metadata": {},
   "outputs": [],
   "source": [
    "# División de la muestra en set de entrenamiento y prueba\n",
    "X_train, X_test, y_train, y_test = train_test_split(X, y, random_state=1)"
   ]
  },
  {
   "cell_type": "code",
   "execution_count": 808,
   "metadata": {},
   "outputs": [
    {
     "data": {
      "text/html": [
       "<div>\n",
       "<style scoped>\n",
       "    .dataframe tbody tr th:only-of-type {\n",
       "        vertical-align: middle;\n",
       "    }\n",
       "\n",
       "    .dataframe tbody tr th {\n",
       "        vertical-align: top;\n",
       "    }\n",
       "\n",
       "    .dataframe thead th {\n",
       "        text-align: right;\n",
       "    }\n",
       "</style>\n",
       "<table border=\"1\" class=\"dataframe\">\n",
       "  <thead>\n",
       "    <tr style=\"text-align: right;\">\n",
       "      <th></th>\n",
       "      <th>count</th>\n",
       "      <th>percentage</th>\n",
       "    </tr>\n",
       "    <tr>\n",
       "      <th>Popular</th>\n",
       "      <th></th>\n",
       "      <th></th>\n",
       "    </tr>\n",
       "  </thead>\n",
       "  <tbody>\n",
       "    <tr>\n",
       "      <th>0</th>\n",
       "      <td>2256</td>\n",
       "      <td>0.501333</td>\n",
       "    </tr>\n",
       "    <tr>\n",
       "      <th>1</th>\n",
       "      <td>2244</td>\n",
       "      <td>0.498667</td>\n",
       "    </tr>\n",
       "  </tbody>\n",
       "</table>\n",
       "</div>"
      ],
      "text/plain": [
       "         count  percentage\n",
       "Popular                   \n",
       "0         2256    0.501333\n",
       "1         2244    0.498667"
      ]
     },
     "execution_count": 808,
     "metadata": {},
     "output_type": "execute_result"
    }
   ],
   "source": [
    "y_train.value_counts().to_frame('count').assign(percentage = lambda x: x/x.sum())"
   ]
  },
  {
   "cell_type": "markdown",
   "metadata": {},
   "source": [
    "### Punto 6 - Árbol de decisión y regresión logística\n",
    "En la celda 6 construya un árbol de decisión y una regresión logística. Para el árbol calibre al menos un parámetro y evalúe el desempeño de cada modelo usando las métricas de Accuracy y F1-Score."
   ]
  },
  {
   "cell_type": "code",
   "execution_count": 556,
   "metadata": {},
   "outputs": [
    {
     "name": "stdout",
     "output_type": "stream",
     "text": [
      "    Accuracy  F1-Score\n",
      "dt  0.556667  0.561056\n",
      "lr  0.614667  0.612081\n"
     ]
    }
   ],
   "source": [
    "# Celda 6\n",
    "max_features_range = range(1,10)\n",
    "accuracy_scores = []\n",
    "for features in max_features_range:\n",
    "    clf = DecisionTreeClassifier(max_features=features, random_state=1)\n",
    "    accuracy_scores.append(cross_val_score(clf, X_train, y_train, cv=10, scoring='accuracy').mean())\n",
    "max_features_opt = max_features_range[np.argmax(accuracy_scores)]\n",
    "\n",
    "models = {'dt' : DecisionTreeClassifier(max_features=max_features_opt),\n",
    "          'lr' : LogisticRegression()}\n",
    "y_pred = pd.DataFrame(index=y_test.index, columns=models.keys())\n",
    "results = pd.DataFrame(index=models.keys(), columns=['Accuracy', 'F1-Score'])\n",
    "for model in models.keys():     \n",
    "    models[model].fit(X_train,y_train)\n",
    "    y_pred[model] = models[model].predict(X_test)\n",
    "    acc = accuracy_score(y_test, y_pred[model])\n",
    "    f1 = f1_score(y_test, y_pred[model])\n",
    "    results.loc[model] = [acc, f1]\n",
    "print(results)"
   ]
  },
  {
   "cell_type": "markdown",
   "metadata": {},
   "source": [
    "En el procedimiento anterior, se calibra un modelo de árbol de decisión con base en los datos x y y train. Posterior a esto se construyen dos modelos: uno de árbol de decisión (con el parámetro max_features calibrado) y una regresión logística. A partir de la construcción de los modelos, se evalúan con las métricas Accuracy y F1-Score obteniendo que para el conjunto de datos, el modelo que mejor predice la popularidad de las noticias es la regresión logística con un Accuracy de 0.614 y un F1-Score de 0.612"
   ]
  },
  {
   "cell_type": "markdown",
   "metadata": {},
   "source": [
    "### Punto 7 - Votación Mayoritaria\n",
    "En la celda 7 elabore un esamble con la metodología de **Votación mayoritaria** compuesto por 300 muestras bagged donde:\n",
    "\n",
    "-las primeras 100 muestras vienen de árboles de decisión donde max_depth tome un valor de su elección\\\n",
    "-las segundas 100 muestras vienen de árboles de decisión donde min_samples_leaf tome un valor de su elección\\\n",
    "-las últimas 100 muestras vienen de regresiones logísticas\n",
    "\n",
    "Evalúe cada uno de los tres modelos de manera independiente utilizando las métricas de Accuracy y F1-Score, luego evalúe el ensamble de modelos y compare los resultados. \n",
    "\n",
    "Nota: \n",
    "\n",
    "Para este ensamble de 300 modelos, deben hacer votación mayoritaria. Esto lo pueden hacer de distintas maneras. La más \"fácil\" es haciendo la votación \"manualmente\", como se hace a partir del minuto 5:45 del video de Ejemplo práctico de emsablajes en Coursera. Digo que es la más fácil porque si hacen la votación mayoritaria sobre las 300 predicciones van a obtener lo que se espera.\n",
    "\n",
    "Otra opción es: para cada uno de los 3 tipos de modelos, entrenar un ensamble de 100 modelos cada uno. Predecir para cada uno de esos tres ensambles y luego predecir como un ensamble de los 3 ensambles. La cuestión es que la votación mayoritaria al usar los 3 ensambles no necesariamente va a generar el mismo resultado que si hacen la votación mayoritaria directamente sobre los 300 modelos. Entonces, para los que quieran hacer esto, deben hacer ese último cálculo con cuidado.\n",
    "\n",
    "Para los que quieran hacerlo como ensamble de ensambles, digo que se debe hacer el ensamble final con cuidado por lo siguiente. Supongamos que:\n",
    "\n",
    "* para los 100 árboles del primer tipo, la votación mayoritaria es: 55% de los modelos predicen que la clase de una observación es \"1\"\n",
    "* para los 100 árboles del segundo tipo, la votación mayoritaria es: 55% de los modelos predicen que la clase de una observación es \"1\"\n",
    "* para las 100 regresiones logísticas, la votación mayoritaria es: 10% de los modelos predicen que la clase de una observación es \"1\"\n",
    "\n",
    "Si se hace la votación mayoritaria de los 300 modelos, la predicción de esa observación debería ser: (100*55%+100*55%+100*10%)/300 = 40% de los modelos votan porque la predicción debería ser \"1\". Es decir, la predicción del ensamble es \"0\" (dado que menos del 50% de modelos predijo un 1).\n",
    "\n",
    "Sin embargo, si miramos cada ensamble por separado, el primer ensamble predice \"1\", el segundo ensamble predice \"1\" y el último ensamble predice \"0\". Si hago votación mayoritaria sobre esto, la predicción va a ser \"1\", lo cual es distinto a si se hace la votación mayoritaria sobre los 300 modelos."
   ]
  },
  {
   "cell_type": "code",
   "execution_count": 565,
   "metadata": {},
   "outputs": [],
   "source": [
    "# Celda 7\n",
    "n_estimators = 300\n",
    "np.random.seed(123)\n",
    "\n",
    "n_samples = X_train.shape[0]\n",
    "samples = [np.random.choice(a=n_samples, size=n_samples, replace=True) for _ in range(n_estimators)]"
   ]
  },
  {
   "cell_type": "code",
   "execution_count": 621,
   "metadata": {},
   "outputs": [],
   "source": [
    "np.random.seed(123) \n",
    "seeds = np.random.randint(1, 10000, size=n_estimators)\n",
    "\n",
    "trees_1 = {}\n",
    "for i in range(100):\n",
    "    trees_1[i] = DecisionTreeClassifier(max_depth=5, random_state=seeds[i])\n",
    "    trees_1[i].fit(X_train.iloc[samples[i]], y_train.iloc[samples[i]])\n",
    "trees_2 = {}\n",
    "for i in range(100, 200):\n",
    "    trees_2[i] = DecisionTreeClassifier(min_samples_leaf=8, random_state=seeds[i])\n",
    "    trees_2[i].fit(X_train.iloc[samples[i]], y_train.iloc[samples[i]])\n",
    "regresions = {}\n",
    "for i in range(200, 300):\n",
    "    regresions[i] = LogisticRegression(random_state=seeds[i])\n",
    "    regresions[i].fit(X_train.iloc[samples[i]], y_train.iloc[samples[i]])"
   ]
  },
  {
   "cell_type": "code",
   "execution_count": 677,
   "metadata": {},
   "outputs": [],
   "source": [
    "y_pred_df_1 = pd.DataFrame(index=X_test.index, columns=list(range(100)))\n",
    "y_pred_df_2 = pd.DataFrame(index=X_test.index, columns=list(range(100,200)))\n",
    "y_pred_df_3 = pd.DataFrame(index=X_test.index, columns=list(range(200,300)))\n",
    "for i in range(100):\n",
    "    y_pred_df_1.iloc[:, i] = trees_1[i].predict(X_test)\n",
    "for i in range(100):\n",
    "    y_pred_df_2.iloc[:, i] = trees_2[i+100].predict(X_test)\n",
    "for i in range(100):\n",
    "    y_pred_df_3.iloc[:, i] = regresions[i+200].predict(X_test)"
   ]
  },
  {
   "cell_type": "code",
   "execution_count": 707,
   "metadata": {},
   "outputs": [
    {
     "name": "stdout",
     "output_type": "stream",
     "text": [
      "                       Modelo  Accuracy  F1-Score\n",
      "0         Árboles (max_depth)  0.654667  0.652815\n",
      "1  Árboles (min_samples_leaf)  0.649333  0.647925\n",
      "2         Regresión Logística  0.618000  0.612051\n"
     ]
    }
   ],
   "source": [
    "y_pred_1 = (y_pred_df_1.sum(axis=1) >= (50)).astype(np.int64)\n",
    "y_pred_2 = (y_pred_df_2.sum(axis=1) >= (50)).astype(np.int64)\n",
    "y_pred_3 = (y_pred_df_3.sum(axis=1) >= (50)).astype(np.int64)\n",
    "accuracy_1 = accuracy_score(y_test, y_pred_1)\n",
    "accuracy_2 = accuracy_score(y_test, y_pred_2)\n",
    "accuracy_3 = accuracy_score(y_test, y_pred_3)\n",
    "f1_1 = f1_score(y_test, y_pred_1)\n",
    "f1_2 = f1_score(y_test, y_pred_2)\n",
    "f1_3 = f1_score(y_test, y_pred_3)\n",
    "results_df = pd.DataFrame({\n",
    "    \"Modelo\": [\"Árboles (max_depth)\", \"Árboles (min_samples_leaf)\", \"Regresión Logística\"],\n",
    "    \"Accuracy\": [accuracy_1, accuracy_2, accuracy_3],\n",
    "    \"F1-Score\": [f1_1, f1_2, f1_3]\n",
    "})\n",
    "print(results_df)"
   ]
  },
  {
   "cell_type": "code",
   "execution_count": 724,
   "metadata": {},
   "outputs": [],
   "source": [
    "y_pred_df = pd.concat([y_pred_df_1, y_pred_df_2, y_pred_df_3], axis=1)\n",
    "y_pred = (y_pred_df.sum(axis=1) >= (n_estimators / 2)).astype(np.int64)"
   ]
  },
  {
   "cell_type": "code",
   "execution_count": 728,
   "metadata": {},
   "outputs": [
    {
     "name": "stdout",
     "output_type": "stream",
     "text": [
      "Accuracy: 0.6293333333333333\n",
      "F1-Score: 0.6227951153324288\n"
     ]
    }
   ],
   "source": [
    "accuracy =accuracy_score(y_test, y_pred)\n",
    "f1 = f1_score(y_test, y_pred)\n",
    "\n",
    "print(\"Accuracy:\", accuracy)\n",
    "print(\"F1-Score:\", f1)"
   ]
  },
  {
   "cell_type": "code",
   "execution_count": 798,
   "metadata": {},
   "outputs": [],
   "source": [
    "results_df.loc[3] = ['Votación Mayoritaria', accuracy, f1]"
   ]
  },
  {
   "cell_type": "markdown",
   "metadata": {},
   "source": [
    "### Punto 8 - Votación Ponderada\n",
    "En la celda 8 elabore un ensamble con la metodología de **Votación ponderada** compuesto por 300 muestras bagged para los mismos tres escenarios del punto 7. Evalúe los modelos utilizando las métricas de Accuracy y F1-Score"
   ]
  },
  {
   "cell_type": "code",
   "execution_count": 751,
   "metadata": {},
   "outputs": [],
   "source": [
    "# Celda 8\n",
    "samples_oob_1 = []\n",
    "samples_oob_2 = []\n",
    "samples_oob_3 = []\n",
    "\n",
    "for sample in samples[:100]:\n",
    "    samples_oob_1.append(sorted(set(range(n_samples)) - set(sample)))\n",
    "\n",
    "for sample in samples[100:200]:\n",
    "    samples_oob_2.append(sorted(set(range(n_samples)) - set(sample)))\n",
    "\n",
    "for sample in samples[200:300]:\n",
    "    samples_oob_3.append(sorted(set(range(n_samples)) - set(sample)))"
   ]
  },
  {
   "cell_type": "code",
   "execution_count": 766,
   "metadata": {},
   "outputs": [],
   "source": [
    "errors_1 = np.zeros(100)\n",
    "errors_2 = np.zeros(100)\n",
    "errors_3 = np.zeros(100)\n",
    "\n",
    "for i in range(100):\n",
    "    y_pred_ = trees_1[i].predict(X_train.iloc[samples_oob_1[i]])\n",
    "    errors_1[i] = 1 - accuracy_score(y_train.iloc[samples_oob_1[i]], y_pred_)\n",
    "\n",
    "for i in range(100):\n",
    "    y_pred_ = trees_2[i+100].predict(X_train.iloc[samples_oob_2[i]])\n",
    "    errors_2[i] = 1 - accuracy_score(y_train.iloc[samples_oob_2[i]], y_pred_)\n",
    "\n",
    "for i in range(100):\n",
    "    y_pred_ = regresions[i+200].predict(X_train.iloc[samples_oob_3[i]])\n",
    "    errors_3[i] = 1 - accuracy_score(y_train.iloc[samples_oob_3[i]], y_pred_)"
   ]
  },
  {
   "cell_type": "code",
   "execution_count": 789,
   "metadata": {},
   "outputs": [
    {
     "name": "stdout",
     "output_type": "stream",
     "text": [
      "0.63 0.6227056424201224\n"
     ]
    }
   ],
   "source": [
    "errors_combined = np.concatenate([errors_1, errors_2, errors_3])\n",
    "alpha_combined = (1 - errors_combined) / (1 - errors_combined).sum()\n",
    "y_pred_df_combined = pd.concat([y_pred_df_1, y_pred_df_2, y_pred_df_3], axis=1)\n",
    "weighted_sum_combined = (y_pred_df_combined * alpha_combined).sum(axis=1)\n",
    "y_pred_combined = (weighted_sum_combined >= 0.5).astype(np.int64)\n",
    "\n",
    "accuracy_ponderada = accuracy_score(y_test, y_pred_combined)\n",
    "f1_ponderada = f1_score(y_test, y_pred_combined)\n",
    "\n",
    "print(accuracy_ponderada, f1_ponderada)"
   ]
  },
  {
   "cell_type": "code",
   "execution_count": 802,
   "metadata": {},
   "outputs": [],
   "source": [
    "results_df.loc[4] = ['Votación Ponderada', accuracy_ponderada, f1_ponderada]"
   ]
  },
  {
   "cell_type": "markdown",
   "metadata": {},
   "source": [
    "### Punto 9 - Comparación y análisis de resultados\n",
    "En la celda 9 comente sobre los resultados obtenidos con las metodologías usadas en los puntos 7 y 8, compare los resultados y enuncie posibles ventajas o desventajas de cada una de ellas."
   ]
  },
  {
   "cell_type": "code",
   "execution_count": 804,
   "metadata": {},
   "outputs": [
    {
     "data": {
      "text/html": [
       "<div>\n",
       "<style scoped>\n",
       "    .dataframe tbody tr th:only-of-type {\n",
       "        vertical-align: middle;\n",
       "    }\n",
       "\n",
       "    .dataframe tbody tr th {\n",
       "        vertical-align: top;\n",
       "    }\n",
       "\n",
       "    .dataframe thead th {\n",
       "        text-align: right;\n",
       "    }\n",
       "</style>\n",
       "<table border=\"1\" class=\"dataframe\">\n",
       "  <thead>\n",
       "    <tr style=\"text-align: right;\">\n",
       "      <th></th>\n",
       "      <th>Modelo</th>\n",
       "      <th>Accuracy</th>\n",
       "      <th>F1-Score</th>\n",
       "    </tr>\n",
       "  </thead>\n",
       "  <tbody>\n",
       "    <tr>\n",
       "      <th>0</th>\n",
       "      <td>Árboles (max_depth)</td>\n",
       "      <td>0.654667</td>\n",
       "      <td>0.652815</td>\n",
       "    </tr>\n",
       "    <tr>\n",
       "      <th>1</th>\n",
       "      <td>Árboles (min_samples_leaf)</td>\n",
       "      <td>0.649333</td>\n",
       "      <td>0.647925</td>\n",
       "    </tr>\n",
       "    <tr>\n",
       "      <th>2</th>\n",
       "      <td>Regresión Logística</td>\n",
       "      <td>0.618000</td>\n",
       "      <td>0.612051</td>\n",
       "    </tr>\n",
       "    <tr>\n",
       "      <th>3</th>\n",
       "      <td>Votación Mayoritaria</td>\n",
       "      <td>0.629333</td>\n",
       "      <td>0.622795</td>\n",
       "    </tr>\n",
       "    <tr>\n",
       "      <th>4</th>\n",
       "      <td>Votación Ponderada</td>\n",
       "      <td>0.630000</td>\n",
       "      <td>0.622706</td>\n",
       "    </tr>\n",
       "  </tbody>\n",
       "</table>\n",
       "</div>"
      ],
      "text/plain": [
       "                       Modelo  Accuracy  F1-Score\n",
       "0         Árboles (max_depth)  0.654667  0.652815\n",
       "1  Árboles (min_samples_leaf)  0.649333  0.647925\n",
       "2         Regresión Logística  0.618000  0.612051\n",
       "3        Votación Mayoritaria  0.629333  0.622795\n",
       "4          Votación Ponderada  0.630000  0.622706"
      ]
     },
     "execution_count": 804,
     "metadata": {},
     "output_type": "execute_result"
    }
   ],
   "source": [
    "# Celda 9\n",
    "results_df"
   ]
  },
  {
   "cell_type": "markdown",
   "metadata": {},
   "source": [
    "Con base en los resultados obtenidos, se puede concluir:\n",
    "- Por separado los árboles de decisión tienen un desempeño mejor que la regresión logística y ambos muy similares.\n",
    "- Cuando se hace el ensamblaje por votacón mayoritaria de los 300 modelos, podemos observar que el bajo desempeño de la regresión logística arrastra el desempeño de los demás modelos\n",
    "- De la misma manera en el ensamblake por votación ponderada, el efecto que tiene la regresión logística sobre la evaluación de los modelos por separado se presenta pero no tan marcadamente como en la votación matoritaria. Esto se debe principalmente a la capacidad que tiene la votación ponderada para restarle valor a aquellas predicciones con más error\n",
    "- El modelo con mejor desempeño fue el árbol de decisión con max_depth = 5 realizado con 100 muestras bagged con un accuracy de 0.654 y un F1-Score de 0.652\n",
    "- En todos los modelos evaluados, el Accuracy y el F1-Score dieron muy similares, lo que corrobora el balanceo de clases que tenia la muestra de datos"
   ]
  }
 ],
 "metadata": {
  "kernelspec": {
   "display_name": "Python 3 (ipykernel)",
   "language": "python",
   "name": "python3"
  },
  "language_info": {
   "codemirror_mode": {
    "name": "ipython",
    "version": 3
   },
   "file_extension": ".py",
   "mimetype": "text/x-python",
   "name": "python",
   "nbconvert_exporter": "python",
   "pygments_lexer": "ipython3",
   "version": "3.11.7"
  }
 },
 "nbformat": 4,
 "nbformat_minor": 4
}
